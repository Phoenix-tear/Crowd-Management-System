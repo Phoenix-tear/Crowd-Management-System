{
  "cells": [
    {
      "cell_type": "code",
      "execution_count": null,
      "metadata": {
        "id": "VjYy0F2gZIPR",
        "outputId": "de736bc2-de0b-4142-ff7f-865bc44b34fe",
        "colab": {
          "base_uri": "https://localhost:8080/"
        }
      },
      "outputs": [
        {
          "output_type": "stream",
          "name": "stdout",
          "text": [
            "Cloning into 'Crowd-Management-System'...\n",
            "remote: Enumerating objects: 9468, done.\u001b[K\n",
            "remote: Counting objects: 100% (1/1), done.\u001b[K\n"
          ]
        }
      ],
      "source": [
        "!git clone https://github.com/Vortex-71/Crowd-Management-System.git"
      ]
    }
  ],
  "metadata": {
    "accelerator": "GPU",
    "colab": {
      "gpuType": "T4",
      "provenance": []
    },
    "kernelspec": {
      "display_name": "Python 3",
      "name": "python3"
    },
    "language_info": {
      "name": "python"
    }
  },
  "nbformat": 4,
  "nbformat_minor": 0
}